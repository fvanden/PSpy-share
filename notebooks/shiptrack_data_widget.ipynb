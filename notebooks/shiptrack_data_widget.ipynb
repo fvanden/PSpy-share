{
 "cells": [
  {
   "cell_type": "markdown",
   "metadata": {},
   "source": [
    "## A Jupyter Notebook widget to plot shiptrack alongside data\n",
    "\n",
    "data is ONLY for demonstration purposes. If you would like to use the data for any kind of analysis, please contact flovan@bas.ac.uk first"
   ]
  },
  {
   "cell_type": "code",
   "execution_count": 10,
   "metadata": {},
   "outputs": [
    {
     "data": {
      "application/javascript": [
       "IPython.notebook.execute_cells_below()"
      ],
      "text/plain": [
       "<IPython.core.display.Javascript object>"
      ]
     },
     "metadata": {},
     "output_type": "display_data"
    }
   ],
   "source": [
    "from IPython.display import Image, display, Math, Latex, HTML, Javascript\n",
    "display(Javascript('IPython.notebook.execute_cells_below()'))"
   ]
  },
  {
   "cell_type": "code",
   "execution_count": 11,
   "metadata": {},
   "outputs": [
    {
     "data": {
      "text/html": [
       "<script>\n",
       "code_show=true; \n",
       "function code_toggle() {\n",
       " if (code_show){\n",
       " $('div.input').hide();\n",
       " } else {\n",
       " $('div.input').show();\n",
       " }\n",
       " code_show = !code_show\n",
       "} \n",
       "$( document ).ready(code_toggle);\n",
       "</script>\n",
       "<form action=\"javascript:code_toggle()\"><input type=\"submit\" value=\"Click here to toggle on/off the raw code.\"></form>"
      ],
      "text/plain": [
       "<IPython.core.display.HTML object>"
      ]
     },
     "execution_count": 11,
     "metadata": {},
     "output_type": "execute_result"
    }
   ],
   "source": [
    "# TOGGLE ON/OFF RAW CODE\n",
    "from IPython.display import HTML\n",
    "\n",
    "HTML('''<script>\n",
    "code_show=true; \n",
    "function code_toggle() {\n",
    " if (code_show){\n",
    " $('div.input').hide();\n",
    " } else {\n",
    " $('div.input').show();\n",
    " }\n",
    " code_show = !code_show\n",
    "} \n",
    "$( document ).ready(code_toggle);\n",
    "</script>\n",
    "<form action=\"javascript:code_toggle()\"><input type=\"submit\" value=\"Click here to toggle on/off the raw code.\"></form>''')\n",
    "\n"
   ]
  },
  {
   "cell_type": "code",
   "execution_count": 19,
   "metadata": {},
   "outputs": [],
   "source": [
    "from mpl_toolkits.basemap import Basemap\n",
    "\n",
    "import numpy as np\n",
    "import matplotlib.pyplot as plt\n",
    "import datetime as dt\n",
    "\n",
    "from netCDF4 import Dataset\n",
    "\n",
    "%matplotlib inline\n",
    "import os\n",
    "import sys\n",
    "import gzip\n",
    "import pickle\n",
    "\n",
    "from mypysmps.util.timetransform import TimeTransform\n",
    "tt = TimeTransform()\n",
    "\n",
    "from mypysmps.io.read import read\n",
    "from mypysmps.util.ps_utils import stack_ps\n",
    "from mypysmps.graph.psdisplay import PSDisplay\n",
    "\n",
    "from ipywidgets import *\n",
    "from IPython.display import display\n",
    "from IPython.display import display, clear_output\n",
    "import ipywidgets as widgets\n",
    "\n",
    "import matplotlib\n",
    "\n",
    "font = {'family' : 'normal',\n",
    "        'weight' : 'normal',\n",
    "        'size'   : 18}\n",
    "\n",
    "matplotlib.rc('font', **font)"
   ]
  },
  {
   "cell_type": "code",
   "execution_count": 20,
   "metadata": {},
   "outputs": [],
   "source": [
    "sys.path.append(\"./../\") # set this path to where the mypysmps is located"
   ]
  },
  {
   "cell_type": "code",
   "execution_count": 23,
   "metadata": {},
   "outputs": [],
   "source": [
    "%%capture\n",
    "avOPC = pickle.load(gzip.open(\"../data/down.gz\", 'rb'))"
   ]
  },
  {
   "cell_type": "code",
   "execution_count": 14,
   "metadata": {},
   "outputs": [],
   "source": [
    "def getLatLons(OPC):\n",
    "    tlons = []\n",
    "    tlats = []\n",
    "    for i in range(0, len(OPC.latitude['data'])):\n",
    "        alat = OPC.latitude['data'][i]\n",
    "        alon = OPC.longitude['data'][i]\n",
    "        try:\n",
    "            tlons.append( -(float(alon[0:2])+ (float(alon[2:].strip('W'))/60)) )\n",
    "            tlats.append( -(float(alat[0:2])+ (float(alat[2:].strip('S'))/60)) )\n",
    "        except ValueError:\n",
    "            pass\n",
    "        \n",
    "    return tlons, tlats"
   ]
  },
  {
   "cell_type": "code",
   "execution_count": 15,
   "metadata": {},
   "outputs": [],
   "source": [
    "tlons, tlats = getLatLons(avOPC)"
   ]
  },
  {
   "cell_type": "code",
   "execution_count": 16,
   "metadata": {},
   "outputs": [],
   "source": [
    "def myplot2(opc, tlats, dateselect):\n",
    "    fig, (ax1, ax2) = plt.subplots(1, 2, figsize = (30,10), gridspec_kw={'width_ratios': [1.5, 3]})\n",
    "    plt.sca(ax1)\n",
    "\n",
    "    m = Basemap(projection='spstere',llcrnrlat=-10., llcrnrlon = -90., urcrnrlat=-10., urcrnrlon=0, boundinglat=-10,lon_0=180,resolution='l')\n",
    "\n",
    "    m.drawcoastlines()\n",
    "\n",
    "    _ = m.drawparallels(np.arange(-60.,1,15.))\n",
    "    _ = m.drawmeridians(np.arange(0.,-91,-30.), labels = [True,True,True,True])\n",
    "\n",
    "    _ = m.fillcontinents(color='black',lake_color='white')\n",
    "\n",
    "\n",
    "    x, y = m(tlons[:dateselect],tlats[:dateselect])\n",
    "    m.plot(x, y, 'g--', linewidth = 6)\n",
    "    m.plot(x[0],y[0], 'bs', markersize=12)\n",
    "    m.plot(x[-1],y[-1], 'ro', markersize=10)\n",
    "\n",
    "\n",
    "    xtickloc = []\n",
    "\n",
    "    for co in np.arange(-60.,1,15.):\n",
    "        xtickloc.append( m(-90,co)[0] )\n",
    "\n",
    "    xtickloc = xtickloc[::-1]\n",
    "    plt.xticks(xtickloc,['0$^\\circ$S',u'15\\N{DEGREE SIGN}S',u'30\\N{DEGREE SIGN}S',u'45\\N{DEGREE SIGN}S',u'60\\N{DEGREE SIGN}S'])\n",
    "\n",
    "\n",
    "    llcrnrx,llcrnry = m(-90,-10)\n",
    "    urcrnrx,urcrnry = m(0, -10)\n",
    "    ax1.set_xlim([llcrnrx,urcrnrx])\n",
    "    ax1.set_ylim([llcrnry,urcrnry])\n",
    "\n",
    "    plt.sca(ax2)\n",
    "    \n",
    "    OPCsums = np.sum(opc.data['normalised_number_concentration']['data'], axis=0)\n",
    "    ax2.plot(tlats, OPCsums)\n",
    "    ylims = ax2.get_ylim()\n",
    "    xvals = tlats[dateselect]\n",
    "\n",
    "    ax2.plot([xvals,xvals], [ylims[0], 1.4*ylims[1]], 'r--')\n",
    "    \n",
    "    #ax2 = disp2.timeLine('normalised_number_concentration',indicator = 4788,return_axes=[fig,ax2],ylim = ylims,ylabel =  u'Diameter [\\N{GREEK SMALL LETTER MU}m]')\n",
    "\n",
    "    plt.subplots_adjust(wspace=0.05, hspace=0)\n"
   ]
  },
  {
   "cell_type": "code",
   "execution_count": 17,
   "metadata": {},
   "outputs": [],
   "source": [
    "sample = widgets.IntSlider(min=1, max=len(avOPC.sample['data'])-1, continuous_update = False, description = 'sample #',layout = Layout(\n",
    "            width = '100%'\n",
    "        ))\n"
   ]
  },
  {
   "cell_type": "code",
   "execution_count": 18,
   "metadata": {},
   "outputs": [
    {
     "data": {
      "application/vnd.jupyter.widget-view+json": {
       "model_id": "e5eb801b6d03421eaa15a9eccda40ebb",
       "version_major": 2,
       "version_minor": 0
      },
      "text/plain": [
       "VBox(children=(Output(), IntSlider(value=1, continuous_update=False, description='sample #', layout=Layout(wid…"
      ]
     },
     "metadata": {},
     "output_type": "display_data"
    }
   ],
   "source": [
    "psd = PSDisplay(avOPC)\n",
    "date = widgets.interactive_output(psd.dateInfo,{'sample':sample})\n",
    "outplot = widgets.interactive_output(myplot2, {'opc':fixed(avOPC),'tlats':fixed(tlats),'dateselect':sample})\n",
    "\n",
    "uidate = HBox([date])\n",
    "outpl1 = VBox([outplot,sample,date])\n",
    "display(outpl1)"
   ]
  },
  {
   "cell_type": "code",
   "execution_count": null,
   "metadata": {},
   "outputs": [],
   "source": []
  }
 ],
 "metadata": {
  "kernelspec": {
   "display_name": "Python 3 (ipykernel)",
   "language": "python",
   "name": "python3"
  },
  "language_info": {
   "codemirror_mode": {
    "name": "ipython",
    "version": 3
   },
   "file_extension": ".py",
   "mimetype": "text/x-python",
   "name": "python",
   "nbconvert_exporter": "python",
   "pygments_lexer": "ipython3",
   "version": "3.9.12"
  }
 },
 "nbformat": 4,
 "nbformat_minor": 4
}
